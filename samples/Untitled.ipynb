{
 "cells": [
  {
   "cell_type": "code",
   "execution_count": 7,
   "metadata": {},
   "outputs": [],
   "source": [
    "import cv2\n",
    "import mediapipe as mp\n",
    "import time"
   ]
  },
  {
   "cell_type": "code",
   "execution_count": 8,
   "metadata": {},
   "outputs": [
    {
     "ename": "IndentationError",
     "evalue": "expected an indented block (<ipython-input-8-9f43ed31d90e>, line 10)",
     "output_type": "error",
     "traceback": [
      "\u001b[1;36m  File \u001b[1;32m\"<ipython-input-8-9f43ed31d90e>\"\u001b[1;36m, line \u001b[1;32m10\u001b[0m\n\u001b[1;33m    success, img = cap.read()\u001b[0m\n\u001b[1;37m          ^\u001b[0m\n\u001b[1;31mIndentationError\u001b[0m\u001b[1;31m:\u001b[0m expected an indented block\n"
     ]
    }
   ],
   "source": [
    "mpPose = mp.solutions.pose\n",
    "pose = mpPose.Pose()\n",
    "mpDraw = mp.solutions.drawing_utils\n",
    "\n",
    "#cap = cv2.VideoCapture(0)\n",
    "cap = cv2.VideoCapture('a.mp4')\n",
    "pTime = 0\n",
    "\n",
    "while True:\n",
    "success, img = cap.read()\n",
    "imgRGB = cv2.cvtColor(img, cv2.COLOR_BGR2RGB)\n",
    "results = pose.process(imgRGB)\n",
    "print(results.pose_landmarks)\n",
    "if results.pose_landmarks:\n",
    "mpDraw.draw_landmarks(img, results.pose_landmarks, mpPose.POSE_CONNECTIONS)\n",
    "for id, lm in enumerate(results.pose_landmarks.landmark):\n",
    "h, w,c = img.shape\n",
    "print(id, lm)\n",
    "cx, cy = int(lm.x*w), int(lm.y*h)\n",
    "cv2.circle(img, (cx, cy), 5, (255,0,0), cv2.FILLED)\n",
    "\n",
    "cTime = time.time()\n",
    "fps = 1/(cTime-pTime)\n",
    "pTime = cTime\n",
    "\n",
    "cv2.putText(img, str(int(fps)), (50,50), cv2.FONT_HERSHEY_SIMPLEX,1,(255,0,0), 3)\n",
    "cv2.imshow(\"Image\", img)\n",
    "cv2.waitKey(1)"
   ]
  },
  {
   "cell_type": "code",
   "execution_count": null,
   "metadata": {},
   "outputs": [],
   "source": []
  }
 ],
 "metadata": {
  "kernelspec": {
   "display_name": "Python 3",
   "language": "python",
   "name": "python3"
  },
  "language_info": {
   "codemirror_mode": {
    "name": "ipython",
    "version": 3
   },
   "file_extension": ".py",
   "mimetype": "text/x-python",
   "name": "python",
   "nbconvert_exporter": "python",
   "pygments_lexer": "ipython3",
   "version": "3.6.10"
  }
 },
 "nbformat": 4,
 "nbformat_minor": 4
}
